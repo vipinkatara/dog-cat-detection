{
 "cells": [
  {
   "cell_type": "markdown",
   "metadata": {},
   "source": [
    "# Loading Libraries"
   ]
  },
  {
   "cell_type": "code",
   "execution_count": 1,
   "metadata": {},
   "outputs": [],
   "source": [
    "import numpy as np\n",
    "import pandas as pd\n",
    "import cv2\n",
    "import matplotlib.pyplot as plt\n",
    "import seaborn as sns\n",
    "import os"
   ]
  },
  {
   "cell_type": "markdown",
   "metadata": {},
   "source": [
    "# Loading all the images(as pixel values)"
   ]
  },
  {
   "cell_type": "code",
   "execution_count": 2,
   "metadata": {},
   "outputs": [],
   "source": [
    "DATA_DIR = './PetImages'\n",
    "CATEGORIES = ['Cat', 'Dog']\n",
    "IMG_SIZE = 50\n",
    "data = []\n",
    "\n",
    "for category in CATEGORIES:\n",
    "    path = os.path.join(DATA_DIR, category) #path to cat dog dir\n",
    "    class_num = CATEGORIES.index(category)\n",
    "    for img in os.listdir(path):\n",
    "        try:\n",
    "            img_array = cv2.imread(os.path.join(path, img), 0)\n",
    "            new_arr = cv2.resize(img_array,(IMG_SIZE,IMG_SIZE))\n",
    "            data.append([new_arr, class_num])\n",
    "        except Exception as e:\n",
    "            pass\n",
    "\n",
    "        \n",
    "    \n",
    "        "
   ]
  },
  {
   "cell_type": "code",
   "execution_count": 3,
   "metadata": {},
   "outputs": [
    {
     "data": {
      "text/plain": [
       "(24946, 2)"
      ]
     },
     "execution_count": 3,
     "metadata": {},
     "output_type": "execute_result"
    }
   ],
   "source": [
    "#checking shape og images stored\n",
    "np.shape(data)"
   ]
  },
  {
   "cell_type": "code",
   "execution_count": 4,
   "metadata": {},
   "outputs": [
    {
     "data": {
      "text/plain": [
       "<matplotlib.image.AxesImage at 0x7f3235e44908>"
      ]
     },
     "execution_count": 4,
     "metadata": {},
     "output_type": "execute_result"
    },
    {
     "data": {
      "image/png": "[encoded data removed]",
      "text/plain": [
       "<Figure size 432x288 with 1 Axes>"
      ]
     },
     "metadata": {
      "needs_background": "light"
     },
     "output_type": "display_data"
    }
   ],
   "source": [
    "#viewing some values\n",
    "plt.imshow(data[2][0])"
   ]
  },
  {
   "cell_type": "markdown",
   "metadata": {},
   "source": [
    "# Separating features and labels and reshaping features"
   ]
  },
  {
   "cell_type": "code",
   "execution_count": 5,
   "metadata": {},
   "outputs": [],
   "source": [
    "x = []\n",
    "y = []\n",
    "for feature, label in data:\n",
    "    x.append(feature)\n",
    "    y.append(label)\n",
    "#reshaping\n",
    "x = np.array(x).reshape(-1,50,50,1)"
   ]
  },
  {
   "cell_type": "code",
   "execution_count": 6,
   "metadata": {},
   "outputs": [
    {
     "data": {
      "text/plain": [
       "(array([0, 1]), array([12476, 12470]))"
      ]
     },
     "execution_count": 6,
     "metadata": {},
     "output_type": "execute_result"
    }
   ],
   "source": [
    "#checking labels value counts\n",
    "np.unique(y, return_counts=True)"
   ]
  },
  {
   "cell_type": "code",
   "execution_count": null,
   "metadata": {},
   "outputs": [],
   "source": [
    "\n"
   ]
  },
  {
   "cell_type": "code",
   "execution_count": 7,
   "metadata": {},
   "outputs": [
    {
     "data": {
      "text/plain": [
       "0"
      ]
     },
     "execution_count": 7,
     "metadata": {},
     "output_type": "execute_result"
    }
   ],
   "source": [
    "np.isnan(x).sum()\n"
   ]
  },
  {
   "cell_type": "code",
   "execution_count": null,
   "metadata": {},
   "outputs": [],
   "source": []
  },
  {
   "cell_type": "code",
   "execution_count": null,
   "metadata": {},
   "outputs": [],
   "source": []
  },
  {
   "cell_type": "code",
   "execution_count": null,
   "metadata": {},
   "outputs": [],
   "source": []
  },
  {
   "cell_type": "markdown",
   "metadata": {},
   "source": [
    "# Converting to categorical"
   ]
  },
  {
   "cell_type": "code",
   "execution_count": 8,
   "metadata": {},
   "outputs": [
    {
     "name": "stderr",
     "output_type": "stream",
     "text": [
      "Using TensorFlow backend.\n",
      "/home/vipin/.local/lib/python3.6/site-packages/tensorflow/python/framework/dtypes.py:516: FutureWarning: Passing (type, 1) or '1type' as a synonym of type is deprecated; in a future version of numpy, it will be understood as (type, (1,)) / '(1,)type'.\n",
      "  _np_qint8 = np.dtype([(\"qint8\", np.int8, 1)])\n",
      "/home/vipin/.local/lib/python3.6/site-packages/tensorflow/python/framework/dtypes.py:517: FutureWarning: Passing (type, 1) or '1type' as a synonym of type is deprecated; in a future version of numpy, it will be understood as (type, (1,)) / '(1,)type'.\n",
      "  _np_quint8 = np.dtype([(\"quint8\", np.uint8, 1)])\n",
      "/home/vipin/.local/lib/python3.6/site-packages/tensorflow/python/framework/dtypes.py:518: FutureWarning: Passing (type, 1) or '1type' as a synonym of type is deprecated; in a future version of numpy, it will be understood as (type, (1,)) / '(1,)type'.\n",
      "  _np_qint16 = np.dtype([(\"qint16\", np.int16, 1)])\n",
      "/home/vipin/.local/lib/python3.6/site-packages/tensorflow/python/framework/dtypes.py:519: FutureWarning: Passing (type, 1) or '1type' as a synonym of type is deprecated; in a future version of numpy, it will be understood as (type, (1,)) / '(1,)type'.\n",
      "  _np_quint16 = np.dtype([(\"quint16\", np.uint16, 1)])\n",
      "/home/vipin/.local/lib/python3.6/site-packages/tensorflow/python/framework/dtypes.py:520: FutureWarning: Passing (type, 1) or '1type' as a synonym of type is deprecated; in a future version of numpy, it will be understood as (type, (1,)) / '(1,)type'.\n",
      "  _np_qint32 = np.dtype([(\"qint32\", np.int32, 1)])\n",
      "/home/vipin/.local/lib/python3.6/site-packages/tensorflow/python/framework/dtypes.py:525: FutureWarning: Passing (type, 1) or '1type' as a synonym of type is deprecated; in a future version of numpy, it will be understood as (type, (1,)) / '(1,)type'.\n",
      "  np_resource = np.dtype([(\"resource\", np.ubyte, 1)])\n",
      "/home/vipin/.local/lib/python3.6/site-packages/tensorboard/compat/tensorflow_stub/dtypes.py:541: FutureWarning: Passing (type, 1) or '1type' as a synonym of type is deprecated; in a future version of numpy, it will be understood as (type, (1,)) / '(1,)type'.\n",
      "  _np_qint8 = np.dtype([(\"qint8\", np.int8, 1)])\n",
      "/home/vipin/.local/lib/python3.6/site-packages/tensorboard/compat/tensorflow_stub/dtypes.py:542: FutureWarning: Passing (type, 1) or '1type' as a synonym of type is deprecated; in a future version of numpy, it will be understood as (type, (1,)) / '(1,)type'.\n",
      "  _np_quint8 = np.dtype([(\"quint8\", np.uint8, 1)])\n",
      "/home/vipin/.local/lib/python3.6/site-packages/tensorboard/compat/tensorflow_stub/dtypes.py:543: FutureWarning: Passing (type, 1) or '1type' as a synonym of type is deprecated; in a future version of numpy, it will be understood as (type, (1,)) / '(1,)type'.\n",
      "  _np_qint16 = np.dtype([(\"qint16\", np.int16, 1)])\n",
      "/home/vipin/.local/lib/python3.6/site-packages/tensorboard/compat/tensorflow_stub/dtypes.py:544: FutureWarning: Passing (type, 1) or '1type' as a synonym of type is deprecated; in a future version of numpy, it will be understood as (type, (1,)) / '(1,)type'.\n",
      "  _np_quint16 = np.dtype([(\"quint16\", np.uint16, 1)])\n",
      "/home/vipin/.local/lib/python3.6/site-packages/tensorboard/compat/tensorflow_stub/dtypes.py:545: FutureWarning: Passing (type, 1) or '1type' as a synonym of type is deprecated; in a future version of numpy, it will be understood as (type, (1,)) / '(1,)type'.\n",
      "  _np_qint32 = np.dtype([(\"qint32\", np.int32, 1)])\n",
      "/home/vipin/.local/lib/python3.6/site-packages/tensorboard/compat/tensorflow_stub/dtypes.py:550: FutureWarning: Passing (type, 1) or '1type' as a synonym of type is deprecated; in a future version of numpy, it will be understood as (type, (1,)) / '(1,)type'.\n",
      "  np_resource = np.dtype([(\"resource\", np.ubyte, 1)])\n"
     ]
    }
   ],
   "source": [
    "import keras"
   ]
  },
  {
   "cell_type": "code",
   "execution_count": 9,
   "metadata": {},
   "outputs": [],
   "source": [
    "y = keras.utils.to_categorical(y)"
   ]
  },
  {
   "cell_type": "code",
   "execution_count": 10,
   "metadata": {},
   "outputs": [
    {
     "data": {
      "text/plain": [
       "array([[1., 0.],\n",
       "       [1., 0.],\n",
       "       [1., 0.],\n",
       "       ...,\n",
       "       [0., 1.],\n",
       "       [0., 1.],\n",
       "       [0., 1.]], dtype=float32)"
      ]
     },
     "execution_count": 10,
     "metadata": {},
     "output_type": "execute_result"
    }
   ],
   "source": [
    "y"
   ]
  },
  {
   "cell_type": "code",
   "execution_count": null,
   "metadata": {},
   "outputs": [],
   "source": []
  },
  {
   "cell_type": "code",
   "execution_count": 11,
   "metadata": {},
   "outputs": [
    {
     "data": {
      "text/plain": [
       "(24946, 50, 50, 1)"
      ]
     },
     "execution_count": 11,
     "metadata": {},
     "output_type": "execute_result"
    }
   ],
   "source": [
    "#checking shape\n",
    "np.shape(x)"
   ]
  },
  {
   "cell_type": "code",
   "execution_count": null,
   "metadata": {},
   "outputs": [],
   "source": []
  },
  {
   "cell_type": "markdown",
   "metadata": {},
   "source": [
    "# Spliting the data into train and test\n"
   ]
  },
  {
   "cell_type": "code",
   "execution_count": 12,
   "metadata": {},
   "outputs": [],
   "source": [
    "from sklearn.model_selection import train_test_split\n",
    "x_train, x_test, y_train, y_test = train_test_split(x,y, test_size=0.1, random_state=0)"
   ]
  },
  {
   "cell_type": "code",
   "execution_count": 13,
   "metadata": {},
   "outputs": [
    {
     "data": {
      "text/plain": [
       "(22451, 50, 50, 1)"
      ]
     },
     "execution_count": 13,
     "metadata": {},
     "output_type": "execute_result"
    }
   ],
   "source": [
    "np.shape(x_train)"
   ]
  },
  {
   "cell_type": "markdown",
   "metadata": {},
   "source": [
    "# With data augmentation to prevent overfitting"
   ]
  },
  {
   "cell_type": "code",
   "execution_count": 14,
   "metadata": {},
   "outputs": [],
   "source": [
    "from keras.preprocessing.image import ImageDataGenerator\n",
    "\n",
    "\n",
    "\n",
    "\n",
    "datagen = ImageDataGenerator(\n",
    "        featurewise_center=False,  # set input mean to 0 over the dataset\n",
    "        samplewise_center=False,  # set each sample mean to 0\n",
    "        featurewise_std_normalization=False,  # divide inputs by std of the dataset\n",
    "        samplewise_std_normalization=False,  # divide each input by its std\n",
    "        zca_whitening=False,  # apply ZCA whitening\n",
    "        rotation_range=10,  # randomly rotate images in the range (degrees, 0 to 180)\n",
    "        zoom_range = 0.1, # Randomly zoom image \n",
    "        width_shift_range=0.1,  # randomly shift images horizontally (fraction of total width)\n",
    "        height_shift_range=0.1,  # randomly shift images vertically (fraction of total height)\n",
    "        horizontal_flip=False,  # randomly flip images\n",
    "        vertical_flip=False)  # randomly flip images\n",
    "\n",
    "\n",
    "datagen.fit(x_train)"
   ]
  },
  {
   "cell_type": "markdown",
   "metadata": {},
   "source": [
    "# CNN"
   ]
  },
  {
   "cell_type": "code",
   "execution_count": 15,
   "metadata": {},
   "outputs": [
    {
     "name": "stdout",
     "output_type": "stream",
     "text": [
      "WARNING:tensorflow:From /home/vipin/.local/lib/python3.6/site-packages/keras/backend/tensorflow_backend.py:4070: The name tf.nn.max_pool is deprecated. Please use tf.nn.max_pool2d instead.\n",
      "\n",
      "Model: \"sequential_1\"\n",
      "_________________________________________________________________\n",
      "Layer (type)                 Output Shape              Param #   \n",
      "=================================================================\n",
      "conv2d_1 (Conv2D)            (None, 48, 48, 54)        540       \n",
      "_________________________________________________________________\n",
      "max_pooling2d_1 (MaxPooling2 (None, 24, 24, 54)        0         \n",
      "_________________________________________________________________\n",
      "flatten_1 (Flatten)          (None, 31104)             0         \n",
      "_________________________________________________________________\n",
      "dense_1 (Dense)              (None, 64)                1990720   \n",
      "_________________________________________________________________\n",
      "dropout_1 (Dropout)          (None, 64)                0         \n",
      "_________________________________________________________________\n",
      "dense_2 (Dense)              (None, 2)                 130       \n",
      "_________________________________________________________________\n",
      "dense_3 (Dense)              (None, 2)                 6         \n",
      "=================================================================\n",
      "Total params: 1,991,396\n",
      "Trainable params: 1,991,396\n",
      "Non-trainable params: 0\n",
      "_________________________________________________________________\n"
     ]
    }
   ],
   "source": [
    "from keras.layers import Conv2D, MaxPool2D, Dense, Flatten, Dropout,Activation\n",
    "from keras.models import Sequential\n",
    "\n",
    "model = Sequential()\n",
    "model.add(Conv2D(54, 3,activation='relu',data_format='channels_last', input_shape=(50,50,1)))\n",
    "model.add(MaxPool2D(pool_size=(2,2)))\n",
    "model.add(Flatten())\n",
    "model.add(Dense(64))\n",
    "model.add(Dropout(0.3))\n",
    "model.add(Dense(2))\n",
    "model.add(Dense(2, activation='softmax'))\n",
    "model.compile(loss = keras.losses.categorical_crossentropy, optimizer=keras.optimizers.Adam(),\n",
    "              metrics=['accuracy'])\n",
    "model.summary()"
   ]
  },
  {
   "cell_type": "code",
   "execution_count": 16,
   "metadata": {},
   "outputs": [
    {
     "data": {
      "text/plain": [
       "(50, 50, 1)"
      ]
     },
     "execution_count": 16,
     "metadata": {},
     "output_type": "execute_result"
    }
   ],
   "source": [
    "x.shape[1:]"
   ]
  },
  {
   "cell_type": "markdown",
   "metadata": {},
   "source": [
    "# Spliting the data into train and validation"
   ]
  },
  {
   "cell_type": "code",
   "execution_count": 17,
   "metadata": {},
   "outputs": [],
   "source": [
    "x_train, x_val, y_train, y_val = train_test_split(x_train, y_train, test_size=0.1, random_state=0)"
   ]
  },
  {
   "cell_type": "markdown",
   "metadata": {},
   "source": [
    "# Fitting the data into CNN"
   ]
  },
  {
   "cell_type": "code",
   "execution_count": 18,
   "metadata": {},
   "outputs": [
    {
     "name": "stdout",
     "output_type": "stream",
     "text": [
      "WARNING:tensorflow:From /home/vipin/.local/lib/python3.6/site-packages/keras/backend/tensorflow_backend.py:422: The name tf.global_variables is deprecated. Please use tf.compat.v1.global_variables instead.\n",
      "\n",
      "Epoch 1/50\n",
      "316/316 [==============================] - 35s 111ms/step - loss: 23.7966 - accuracy: 0.5723 - val_loss: 2.2900 - val_accuracy: 0.5810\n",
      "Epoch 2/50\n",
      "316/316 [==============================] - 33s 104ms/step - loss: 0.9250 - accuracy: 0.5984 - val_loss: 1.1112 - val_accuracy: 0.6527\n",
      "Epoch 3/50\n",
      "316/316 [==============================] - 33s 105ms/step - loss: 0.7863 - accuracy: 0.6121 - val_loss: 1.1410 - val_accuracy: 0.6264\n",
      "Epoch 4/50\n",
      "316/316 [==============================] - 33s 105ms/step - loss: 0.7331 - accuracy: 0.6172 - val_loss: 1.0320 - val_accuracy: 0.6327\n",
      "Epoch 5/50\n",
      "316/316 [==============================] - 33s 105ms/step - loss: 0.7030 - accuracy: 0.6130 - val_loss: 0.9256 - val_accuracy: 0.6358\n",
      "Epoch 6/50\n",
      "316/316 [==============================] - 33s 105ms/step - loss: 0.6872 - accuracy: 0.6126 - val_loss: 0.8577 - val_accuracy: 0.6394\n",
      "Epoch 7/50\n",
      "316/316 [==============================] - 33s 105ms/step - loss: 0.6834 - accuracy: 0.6057 - val_loss: 0.8059 - val_accuracy: 0.6362\n",
      "Epoch 8/50\n",
      "316/316 [==============================] - 34s 107ms/step - loss: 0.6808 - accuracy: 0.6110 - val_loss: 0.7643 - val_accuracy: 0.6416\n",
      "Epoch 9/50\n",
      "316/316 [==============================] - 35s 109ms/step - loss: 0.6736 - accuracy: 0.6102 - val_loss: 0.9028 - val_accuracy: 0.6207\n",
      "Epoch 10/50\n",
      "316/316 [==============================] - 35s 110ms/step - loss: 0.6684 - accuracy: 0.6119 - val_loss: 0.8191 - val_accuracy: 0.6322\n",
      "Epoch 11/50\n",
      "316/316 [==============================] - 35s 111ms/step - loss: 0.6655 - accuracy: 0.6142 - val_loss: 0.8020 - val_accuracy: 0.6322\n",
      "Epoch 12/50\n",
      "316/316 [==============================] - 35s 111ms/step - loss: 0.6681 - accuracy: 0.6162 - val_loss: 0.7619 - val_accuracy: 0.6420\n",
      "Epoch 13/50\n",
      "316/316 [==============================] - 35s 111ms/step - loss: 0.6637 - accuracy: 0.6121 - val_loss: 0.7661 - val_accuracy: 0.6438\n",
      "Epoch 14/50\n",
      "316/316 [==============================] - 35s 111ms/step - loss: 0.6624 - accuracy: 0.6151 - val_loss: 0.8330 - val_accuracy: 0.6202\n",
      "Epoch 15/50\n",
      "316/316 [==============================] - 35s 111ms/step - loss: 0.6622 - accuracy: 0.6198 - val_loss: 0.7348 - val_accuracy: 0.6509\n",
      "Epoch 16/50\n",
      "316/316 [==============================] - 35s 111ms/step - loss: 0.6547 - accuracy: 0.6305 - val_loss: 0.7621 - val_accuracy: 0.6273\n",
      "Epoch 17/50\n",
      "316/316 [==============================] - 35s 111ms/step - loss: 0.6576 - accuracy: 0.6249 - val_loss: 1.0591 - val_accuracy: 0.6086\n",
      "Epoch 18/50\n",
      "316/316 [==============================] - 35s 111ms/step - loss: 0.6519 - accuracy: 0.6286 - val_loss: 0.7228 - val_accuracy: 0.6612\n",
      "Epoch 19/50\n",
      "316/316 [==============================] - 36s 114ms/step - loss: 0.6532 - accuracy: 0.6220 - val_loss: 0.8388 - val_accuracy: 0.6207\n",
      "Epoch 20/50\n",
      "316/316 [==============================] - 36s 114ms/step - loss: 0.6534 - accuracy: 0.6245 - val_loss: 0.8140 - val_accuracy: 0.6287\n",
      "Epoch 21/50\n",
      "316/316 [==============================] - 36s 113ms/step - loss: 0.6516 - accuracy: 0.6275 - val_loss: 0.7270 - val_accuracy: 0.6572\n",
      "Epoch 22/50\n",
      "316/316 [==============================] - 35s 112ms/step - loss: 0.6516 - accuracy: 0.6274 - val_loss: 0.8031 - val_accuracy: 0.6443\n",
      "Epoch 23/50\n",
      "316/316 [==============================] - 35s 112ms/step - loss: 0.6439 - accuracy: 0.6385 - val_loss: 0.6989 - val_accuracy: 0.6545\n",
      "Epoch 24/50\n",
      "316/316 [==============================] - 36s 113ms/step - loss: 0.6392 - accuracy: 0.6356 - val_loss: 0.6712 - val_accuracy: 0.6554\n",
      "Epoch 25/50\n",
      "316/316 [==============================] - 36s 113ms/step - loss: 0.6341 - accuracy: 0.6482 - val_loss: 0.7082 - val_accuracy: 0.6532\n",
      "Epoch 26/50\n",
      "316/316 [==============================] - 36s 113ms/step - loss: 0.6246 - accuracy: 0.6544 - val_loss: 0.9168 - val_accuracy: 0.5824\n",
      "Epoch 27/50\n",
      "316/316 [==============================] - 36s 113ms/step - loss: 0.6123 - accuracy: 0.6703 - val_loss: 0.5680 - val_accuracy: 0.7084\n",
      "Epoch 28/50\n",
      "316/316 [==============================] - 36s 113ms/step - loss: 0.6143 - accuracy: 0.6694 - val_loss: 0.5991 - val_accuracy: 0.7070\n",
      "Epoch 29/50\n",
      "316/316 [==============================] - 36s 113ms/step - loss: 0.6067 - accuracy: 0.6778 - val_loss: 0.5655 - val_accuracy: 0.7164\n",
      "Epoch 30/50\n",
      "316/316 [==============================] - 36s 114ms/step - loss: 0.6066 - accuracy: 0.6791 - val_loss: 0.5468 - val_accuracy: 0.7320\n",
      "Epoch 31/50\n",
      "316/316 [==============================] - 36s 114ms/step - loss: 0.5998 - accuracy: 0.6820 - val_loss: 0.7032 - val_accuracy: 0.6834\n",
      "Epoch 32/50\n",
      "316/316 [==============================] - 36s 114ms/step - loss: 0.6084 - accuracy: 0.6725 - val_loss: 0.5774 - val_accuracy: 0.7168\n",
      "Epoch 33/50\n",
      "316/316 [==============================] - 36s 114ms/step - loss: 0.5968 - accuracy: 0.6828 - val_loss: 0.7527 - val_accuracy: 0.6607\n",
      "Epoch 34/50\n",
      "316/316 [==============================] - 36s 114ms/step - loss: 0.6008 - accuracy: 0.6826 - val_loss: 0.6344 - val_accuracy: 0.7119\n",
      "Epoch 35/50\n",
      "316/316 [==============================] - 35s 112ms/step - loss: 0.5948 - accuracy: 0.6861 - val_loss: 0.5818 - val_accuracy: 0.7297\n",
      "Epoch 36/50\n",
      "316/316 [==============================] - 35s 112ms/step - loss: 0.5926 - accuracy: 0.6907 - val_loss: 0.5699 - val_accuracy: 0.7467\n",
      "Epoch 37/50\n",
      "316/316 [==============================] - 35s 111ms/step - loss: 0.6007 - accuracy: 0.6821 - val_loss: 0.5582 - val_accuracy: 0.7302\n",
      "Epoch 38/50\n",
      "316/316 [==============================] - 35s 110ms/step - loss: 0.5910 - accuracy: 0.6925 - val_loss: 0.6728 - val_accuracy: 0.6950\n",
      "Epoch 39/50\n",
      "316/316 [==============================] - 36s 115ms/step - loss: 0.5914 - accuracy: 0.6906 - val_loss: 0.8189 - val_accuracy: 0.6527\n",
      "Epoch 40/50\n",
      "316/316 [==============================] - 35s 110ms/step - loss: 0.5948 - accuracy: 0.6863 - val_loss: 0.6569 - val_accuracy: 0.6928\n",
      "Epoch 41/50\n",
      "316/316 [==============================] - 35s 109ms/step - loss: 0.5856 - accuracy: 0.6988 - val_loss: 0.5561 - val_accuracy: 0.7386\n",
      "Epoch 42/50\n",
      "316/316 [==============================] - 35s 110ms/step - loss: 0.5883 - accuracy: 0.6901 - val_loss: 0.7274 - val_accuracy: 0.6456\n",
      "Epoch 43/50\n",
      "316/316 [==============================] - 35s 110ms/step - loss: 0.5958 - accuracy: 0.6886 - val_loss: 0.7678 - val_accuracy: 0.6732\n",
      "Epoch 44/50\n",
      "316/316 [==============================] - 35s 110ms/step - loss: 0.5837 - accuracy: 0.6989 - val_loss: 0.7071 - val_accuracy: 0.6999\n",
      "Epoch 45/50\n",
      "316/316 [==============================] - 35s 111ms/step - loss: 0.6037 - accuracy: 0.6799 - val_loss: 0.9301 - val_accuracy: 0.6451\n",
      "Epoch 46/50\n",
      "316/316 [==============================] - 35s 110ms/step - loss: 0.5863 - accuracy: 0.6978 - val_loss: 0.6006 - val_accuracy: 0.7168\n",
      "Epoch 47/50\n",
      "316/316 [==============================] - 35s 111ms/step - loss: 0.5891 - accuracy: 0.6879 - val_loss: 0.5661 - val_accuracy: 0.7226\n",
      "Epoch 48/50\n",
      "316/316 [==============================] - 35s 111ms/step - loss: 0.5839 - accuracy: 0.6952 - val_loss: 0.6959 - val_accuracy: 0.6848\n",
      "Epoch 49/50\n",
      "316/316 [==============================] - 35s 110ms/step - loss: 0.5881 - accuracy: 0.6957 - val_loss: 0.6758 - val_accuracy: 0.7173\n",
      "Epoch 50/50\n",
      "316/316 [==============================] - 35s 112ms/step - loss: 0.5930 - accuracy: 0.6870 - val_loss: 0.7965 - val_accuracy: 0.6714\n"
     ]
    }
   ],
   "source": [
    "\n",
    "batch_size = 64\n",
    "epochs = 50\n",
    "history = model.fit_generator(datagen.flow(x_train,y_train, batch_size=batch_size),\n",
    "                              epochs = epochs, validation_data = (x_val,y_val),\n",
    "                            \n",
    "                              )"
   ]
  },
  {
   "cell_type": "markdown",
   "metadata": {},
   "source": [
    "# Predicting values "
   ]
  },
  {
   "cell_type": "code",
   "execution_count": 19,
   "metadata": {},
   "outputs": [],
   "source": [
    "y_pred = model.predict(x_test)"
   ]
  },
  {
   "cell_type": "markdown",
   "metadata": {},
   "source": [
    "# checking the accuracy of the model"
   ]
  },
  {
   "cell_type": "code",
   "execution_count": 20,
   "metadata": {},
   "outputs": [
    {
     "data": {
      "text/plain": [
       "0.6392785571142284"
      ]
     },
     "execution_count": 20,
     "metadata": {},
     "output_type": "execute_result"
    }
   ],
   "source": [
    "\n",
    "from sklearn.metrics import accuracy_score\n",
    "accuracy_score(y_test, y_pred.round())"
   ]
  },
  {
   "cell_type": "markdown",
   "metadata": {},
   "source": [
    "# Plotting training loss vs validation loss"
   ]
  },
  {
   "cell_type": "code",
   "execution_count": 21,
   "metadata": {},
   "outputs": [
    {
     "data": {
      "image/png": "[encoded data removed]",
      "text/plain": [
       "<Figure size 432x288 with 1 Axes>"
      ]
     },
     "metadata": {
      "needs_background": "light"
     },
     "output_type": "display_data"
    }
   ],
   "source": [
    "loss = history.history['loss']\n",
    "val_loss = history.history['val_loss']\n",
    "epochs = range(1, len(loss) + 1)\n",
    "plt.plot(epochs, loss, 'y', label='Training loss')\n",
    "plt.plot(epochs, val_loss, 'r', label='Validation loss')\n",
    "plt.title('Training and validation loss')\n",
    "plt.xlabel('Epochs')\n",
    "plt.ylabel('Loss')\n",
    "plt.legend()\n",
    "plt.show()"
   ]
  },
  {
   "cell_type": "markdown",
   "metadata": {},
   "source": [
    "# Plotting training accuracy vs validation accuracy"
   ]
  },
  {
   "cell_type": "code",
   "execution_count": 22,
   "metadata": {},
   "outputs": [
    {
     "data": {
      "image/png": "[encoded data removed]",
      "text/plain": [
       "<Figure size 432x288 with 1 Axes>"
      ]
     },
     "metadata": {
      "needs_background": "light"
     },
     "output_type": "display_data"
    }
   ],
   "source": [
    "acc = history.history['accuracy']\n",
    "val_acc = history.history['val_accuracy']\n",
    "plt.plot(epochs, acc, 'y', label='Training acc')\n",
    "plt.plot(epochs, val_acc, 'r', label='Validation acc')\n",
    "plt.title('Training and validation accuracy')\n",
    "plt.xlabel('Epochs')\n",
    "plt.ylabel('Accuracy')\n",
    "plt.legend()\n",
    "plt.show()"
   ]
  },
  {
   "cell_type": "code",
   "execution_count": null,
   "metadata": {},
   "outputs": [],
   "source": []
  }
 ],
 "metadata": {
  "kernelspec": {
   "display_name": "Python 3",
   "language": "python",
   "name": "python3"
  },
  "language_info": {
   "codemirror_mode": {
    "name": "ipython",
    "version": 3
   },
   "file_extension": ".py",
   "mimetype": "text/x-python",
   "name": "python",
   "nbconvert_exporter": "python",
   "pygments_lexer": "ipython3",
   "version": "3.6.9"
  }
 },
 "nbformat": 4,
 "nbformat_minor": 4
}
